{
  "nbformat": 4,
  "nbformat_minor": 0,
  "metadata": {
    "colab": {
      "name": "Machine-Learning.ipynb",
      "provenance": [],
      "collapsed_sections": []
    },
    "kernelspec": {
      "name": "python3",
      "display_name": "Python 3"
    },
    "language_info": {
      "name": "python"
    }
  },
  "cells": [
    {
      "cell_type": "markdown",
      "source": [
        "\n",
        "\n",
        "**Machine Learning: Classificação com SKLearn**\n",
        "- Classificando porco ou cachorro (classificação binária)\n",
        "- Passando informações (em colunas), classificando características também de forma binária, poderemos então concluir uma definição de o que pode ser o objeto. ***APRENDIZADO SUPERVISIONADO***\n",
        "- Dessa forma, poderemos obter um classificador de acurácia\n",
        "\n",
        "\n"
      ],
      "metadata": {
        "id": "JeP3aSv8SOFE"
      }
    },
    {
      "cell_type": "code",
      "source": [
        "#Features: pelos longos? | perna curta? | consegue latir ? \n",
        "# 1 == sim | 0 == não\n",
        "\n",
        "pig1 = [0, 1, 0]\n",
        "pig2 = [0, 1, 1]\n",
        "pig3 = [1, 1, 0]\n",
        "\n",
        "dog1 = [0, 1, 1]\n",
        "dog2 = [1, 0, 1]\n",
        "dog3 = [1, 1, 1]\n",
        "\n",
        "# 1 => porco, 0 => cachorro\n",
        "train_x = [pig1, pig2, pig3, dog1, dog2, dog3]\n",
        "train_y = [1, 1, 1, 0, 0, 0] # labels"
      ],
      "metadata": {
        "id": "s8k5NORQWdR-"
      },
      "execution_count": 1,
      "outputs": []
    },
    {
      "cell_type": "code",
      "source": [
        "from sklearn.svm import LinearSVC\n",
        "\n",
        "# Esse modelo tenta adaptar o seu conhecimento com base nos dados e classes passados\n",
        "model = LinearSVC()\n",
        "model.fit(train_x, train_y)"
      ],
      "metadata": {
        "colab": {
          "base_uri": "https://localhost:8080/"
        },
        "id": "XkpphdGhZKFS",
        "outputId": "ff9efbb1-4822-48c8-cd83-eb3bc0341e5a"
      },
      "execution_count": 2,
      "outputs": [
        {
          "output_type": "execute_result",
          "data": {
            "text/plain": [
              "LinearSVC()"
            ]
          },
          "metadata": {},
          "execution_count": 2
        }
      ]
    },
    {
      "cell_type": "code",
      "source": [
        "# Crio um animal misterioso com as seguintes características e peço para o modelo \n",
        "# advinhar qual deve ser esse animal, passando uma lista de 1 elemento.\n",
        "animal_misterioso = [1,1,1]\n",
        "model.predict([animal_misterioso])\n",
        "\n",
        "# a resposta diz que ele é um cachorro"
      ],
      "metadata": {
        "colab": {
          "base_uri": "https://localhost:8080/"
        },
        "id": "ubF3ctANZx9T",
        "outputId": "7855d8de-4fd5-49ac-c6ad-b848126fcdcf"
      },
      "execution_count": 3,
      "outputs": [
        {
          "output_type": "execute_result",
          "data": {
            "text/plain": [
              "array([0])"
            ]
          },
          "metadata": {},
          "execution_count": 3
        }
      ]
    },
    {
      "cell_type": "code",
      "source": [
        "# Mesma coisa agora, só que com uma gama maior de exemplos\n",
        "\n",
        "animal1 = [1,1,1] # sei que é cachorro\n",
        "animal2 = [1,1,0] # sei que é porco\n",
        "animal3 = [0,1,1] # sei que é porco\n",
        "\n",
        "right_answer = [0, 1, 1]\n",
        "\n",
        "animals = [animal1, animal2, animal3]\n",
        "predictions = model.predict(animals)"
      ],
      "metadata": {
        "id": "ENUbUBEXaDJg"
      },
      "execution_count": 4,
      "outputs": []
    },
    {
      "cell_type": "code",
      "source": [
        "# Com base na resposta poderemos observar que o modelo não acertou todos os ex's\n",
        "# Vamos comparar\n",
        "num_ok = (predictions == right_answer).sum()\n",
        "total = len(right_answer)\n",
        "\n",
        "perc_right = ( num_ok/total ) * 100\n",
        "\n",
        "print(perc_right, '%')\n",
        "\n",
        "# essa comparação devolve um array numpy (por de baixo dos panos)"
      ],
      "metadata": {
        "colab": {
          "base_uri": "https://localhost:8080/"
        },
        "id": "y46row2la-Z0",
        "outputId": "314c96ed-5ae0-40c2-fec4-0d3166e11f3b"
      },
      "execution_count": 5,
      "outputs": [
        {
          "output_type": "stream",
          "name": "stdout",
          "text": [
            "66.66666666666666 %\n"
          ]
        }
      ]
    },
    {
      "cell_type": "code",
      "source": [
        "# Calculando taxa de acerto de forma melhor\n",
        "from sklearn.metrics import accuracy_score\n",
        "\n",
        "perc_right = accuracy_score(right_answer, predictions)\n",
        "print(perc_right * 100, '%')"
      ],
      "metadata": {
        "colab": {
          "base_uri": "https://localhost:8080/"
        },
        "id": "zbLEBlABc8pC",
        "outputId": "9a78b376-c5b0-41da-8ecc-d57cd916a7a7"
      },
      "execution_count": 6,
      "outputs": [
        {
          "output_type": "stream",
          "name": "stdout",
          "text": [
            "66.66666666666666 %\n"
          ]
        }
      ]
    }
  ]
}