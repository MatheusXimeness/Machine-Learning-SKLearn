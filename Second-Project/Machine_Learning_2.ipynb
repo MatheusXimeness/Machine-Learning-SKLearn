{
  "nbformat": 4,
  "nbformat_minor": 0,
  "metadata": {
    "colab": {
      "name": "Machine_Learning_2.ipynb",
      "provenance": [],
      "collapsed_sections": []
    },
    "kernelspec": {
      "name": "python3",
      "display_name": "Python 3"
    },
    "language_info": {
      "name": "python"
    }
  },
  "cells": [
    {
      "cell_type": "markdown",
      "source": [
        "<h1>Segundo projeto de classificação</h1>\n",
        "\n",
        "\n",
        "*   Ler arquivo .csv\n",
        "\n",
        "\n"
      ],
      "metadata": {
        "id": "4FU38GZyeiXM"
      }
    },
    {
      "cell_type": "code",
      "source": [
        "import pandas as pd\n",
        "\n",
        "uri = \"https://gist.githubusercontent.com/guilhermesilveira/2d2efa37d66b6c84a722ea627a897ced/raw/10968b997d885cbded1c92938c7a9912ba41c615/tracking.csv\"\n",
        "pd.read_csv(uri)\n",
        "dados = pd.read_csv(uri)\n",
        "dados.head()"
      ],
      "metadata": {
        "colab": {
          "base_uri": "https://localhost:8080/",
          "height": 206
        },
        "id": "xk1E2M1SeyqO",
        "outputId": "30e3f8a6-f088-471e-d29c-92525c4fa8af"
      },
      "execution_count": 3,
      "outputs": [
        {
          "output_type": "execute_result",
          "data": {
            "text/plain": [
              "   home  how_it_works  contact  bought\n",
              "0     1             1        0       0\n",
              "1     1             1        0       0\n",
              "2     1             1        0       0\n",
              "3     1             1        0       0\n",
              "4     1             1        0       0"
            ],
            "text/html": [
              "\n",
              "  <div id=\"df-16b25420-6c7f-4683-b7f4-d53c9e979b03\">\n",
              "    <div class=\"colab-df-container\">\n",
              "      <div>\n",
              "<style scoped>\n",
              "    .dataframe tbody tr th:only-of-type {\n",
              "        vertical-align: middle;\n",
              "    }\n",
              "\n",
              "    .dataframe tbody tr th {\n",
              "        vertical-align: top;\n",
              "    }\n",
              "\n",
              "    .dataframe thead th {\n",
              "        text-align: right;\n",
              "    }\n",
              "</style>\n",
              "<table border=\"1\" class=\"dataframe\">\n",
              "  <thead>\n",
              "    <tr style=\"text-align: right;\">\n",
              "      <th></th>\n",
              "      <th>home</th>\n",
              "      <th>how_it_works</th>\n",
              "      <th>contact</th>\n",
              "      <th>bought</th>\n",
              "    </tr>\n",
              "  </thead>\n",
              "  <tbody>\n",
              "    <tr>\n",
              "      <th>0</th>\n",
              "      <td>1</td>\n",
              "      <td>1</td>\n",
              "      <td>0</td>\n",
              "      <td>0</td>\n",
              "    </tr>\n",
              "    <tr>\n",
              "      <th>1</th>\n",
              "      <td>1</td>\n",
              "      <td>1</td>\n",
              "      <td>0</td>\n",
              "      <td>0</td>\n",
              "    </tr>\n",
              "    <tr>\n",
              "      <th>2</th>\n",
              "      <td>1</td>\n",
              "      <td>1</td>\n",
              "      <td>0</td>\n",
              "      <td>0</td>\n",
              "    </tr>\n",
              "    <tr>\n",
              "      <th>3</th>\n",
              "      <td>1</td>\n",
              "      <td>1</td>\n",
              "      <td>0</td>\n",
              "      <td>0</td>\n",
              "    </tr>\n",
              "    <tr>\n",
              "      <th>4</th>\n",
              "      <td>1</td>\n",
              "      <td>1</td>\n",
              "      <td>0</td>\n",
              "      <td>0</td>\n",
              "    </tr>\n",
              "  </tbody>\n",
              "</table>\n",
              "</div>\n",
              "      <button class=\"colab-df-convert\" onclick=\"convertToInteractive('df-16b25420-6c7f-4683-b7f4-d53c9e979b03')\"\n",
              "              title=\"Convert this dataframe to an interactive table.\"\n",
              "              style=\"display:none;\">\n",
              "        \n",
              "  <svg xmlns=\"http://www.w3.org/2000/svg\" height=\"24px\"viewBox=\"0 0 24 24\"\n",
              "       width=\"24px\">\n",
              "    <path d=\"M0 0h24v24H0V0z\" fill=\"none\"/>\n",
              "    <path d=\"M18.56 5.44l.94 2.06.94-2.06 2.06-.94-2.06-.94-.94-2.06-.94 2.06-2.06.94zm-11 1L8.5 8.5l.94-2.06 2.06-.94-2.06-.94L8.5 2.5l-.94 2.06-2.06.94zm10 10l.94 2.06.94-2.06 2.06-.94-2.06-.94-.94-2.06-.94 2.06-2.06.94z\"/><path d=\"M17.41 7.96l-1.37-1.37c-.4-.4-.92-.59-1.43-.59-.52 0-1.04.2-1.43.59L10.3 9.45l-7.72 7.72c-.78.78-.78 2.05 0 2.83L4 21.41c.39.39.9.59 1.41.59.51 0 1.02-.2 1.41-.59l7.78-7.78 2.81-2.81c.8-.78.8-2.07 0-2.86zM5.41 20L4 18.59l7.72-7.72 1.47 1.35L5.41 20z\"/>\n",
              "  </svg>\n",
              "      </button>\n",
              "      \n",
              "  <style>\n",
              "    .colab-df-container {\n",
              "      display:flex;\n",
              "      flex-wrap:wrap;\n",
              "      gap: 12px;\n",
              "    }\n",
              "\n",
              "    .colab-df-convert {\n",
              "      background-color: #E8F0FE;\n",
              "      border: none;\n",
              "      border-radius: 50%;\n",
              "      cursor: pointer;\n",
              "      display: none;\n",
              "      fill: #1967D2;\n",
              "      height: 32px;\n",
              "      padding: 0 0 0 0;\n",
              "      width: 32px;\n",
              "    }\n",
              "\n",
              "    .colab-df-convert:hover {\n",
              "      background-color: #E2EBFA;\n",
              "      box-shadow: 0px 1px 2px rgba(60, 64, 67, 0.3), 0px 1px 3px 1px rgba(60, 64, 67, 0.15);\n",
              "      fill: #174EA6;\n",
              "    }\n",
              "\n",
              "    [theme=dark] .colab-df-convert {\n",
              "      background-color: #3B4455;\n",
              "      fill: #D2E3FC;\n",
              "    }\n",
              "\n",
              "    [theme=dark] .colab-df-convert:hover {\n",
              "      background-color: #434B5C;\n",
              "      box-shadow: 0px 1px 3px 1px rgba(0, 0, 0, 0.15);\n",
              "      filter: drop-shadow(0px 1px 2px rgba(0, 0, 0, 0.3));\n",
              "      fill: #FFFFFF;\n",
              "    }\n",
              "  </style>\n",
              "\n",
              "      <script>\n",
              "        const buttonEl =\n",
              "          document.querySelector('#df-16b25420-6c7f-4683-b7f4-d53c9e979b03 button.colab-df-convert');\n",
              "        buttonEl.style.display =\n",
              "          google.colab.kernel.accessAllowed ? 'block' : 'none';\n",
              "\n",
              "        async function convertToInteractive(key) {\n",
              "          const element = document.querySelector('#df-16b25420-6c7f-4683-b7f4-d53c9e979b03');\n",
              "          const dataTable =\n",
              "            await google.colab.kernel.invokeFunction('convertToInteractive',\n",
              "                                                     [key], {});\n",
              "          if (!dataTable) return;\n",
              "\n",
              "          const docLinkHtml = 'Like what you see? Visit the ' +\n",
              "            '<a target=\"_blank\" href=https://colab.research.google.com/notebooks/data_table.ipynb>data table notebook</a>'\n",
              "            + ' to learn more about interactive tables.';\n",
              "          element.innerHTML = '';\n",
              "          dataTable['output_type'] = 'display_data';\n",
              "          await google.colab.output.renderOutput(dataTable, element);\n",
              "          const docLink = document.createElement('div');\n",
              "          docLink.innerHTML = docLinkHtml;\n",
              "          element.appendChild(docLink);\n",
              "        }\n",
              "      </script>\n",
              "    </div>\n",
              "  </div>\n",
              "  "
            ]
          },
          "metadata": {},
          "execution_count": 3
        }
      ]
    },
    {
      "cell_type": "markdown",
      "source": [
        "* Vou modificar os títulos das colunas para português\n",
        "\n"
      ],
      "metadata": {
        "id": "VLxn9FesggiU"
      }
    },
    {
      "cell_type": "code",
      "source": [
        "mapa = {\n",
        "    \"home\" : \"principal\",\n",
        "    \"how_it_works\" : \"como_funciona\",\n",
        "    \"contact\" : \"contato\",\n",
        "    \"bought\" : \"comprou\"\n",
        "}\n",
        "\n",
        "# altero a referencia para a variavel dados anterior (que estava em inglês)\n",
        "dados = dados.rename(columns = mapa)"
      ],
      "metadata": {
        "id": "lihnzgsffqyB"
      },
      "execution_count": 17,
      "outputs": []
    },
    {
      "cell_type": "markdown",
      "source": [
        "* Preciso separar as features (o meu x) da conclusão (o meu y)"
      ],
      "metadata": {
        "id": "ezATd9mnfS9j"
      }
    },
    {
      "cell_type": "code",
      "source": [
        "# x é uma lista de arrays (uma matriz)\n",
        "x = dados[[\"principal\",\"como_funciona\",\"contato\"]]\n",
        "y = dados[\"comprou\"]\n",
        "y.head()"
      ],
      "metadata": {
        "colab": {
          "base_uri": "https://localhost:8080/"
        },
        "id": "ZnKFHwn2e6RZ",
        "outputId": "77ba3a79-589e-4cf9-c914-75be2887da08"
      },
      "execution_count": 24,
      "outputs": [
        {
          "output_type": "execute_result",
          "data": {
            "text/plain": [
              "0    0\n",
              "1    0\n",
              "2    0\n",
              "3    0\n",
              "4    0\n",
              "Name: comprou, dtype: int64"
            ]
          },
          "metadata": {},
          "execution_count": 24
        }
      ]
    },
    {
      "cell_type": "markdown",
      "source": [
        "Quando estamos falando de treinar algoritmos de classificação é importante\n",
        "lembrar que não podemos treinar todos os dados disponíveis, **precisamos treinar\n",
        "uma parte e testar a outra**, pois dessa forma garantimos que o algoritmo \n",
        "não irá memorizar as respostas e sim chegar em conclusões que vão de acordo com\n",
        "o seu treinamento."
      ],
      "metadata": {
        "id": "WCxbqZKfhxlO"
      }
    },
    {
      "cell_type": "code",
      "source": [
        "dados.shape"
      ],
      "metadata": {
        "colab": {
          "base_uri": "https://localhost:8080/"
        },
        "id": "BxaRHSxeiNMc",
        "outputId": "eb19babf-44b8-41a8-e474-e65803c8f262"
      },
      "execution_count": 25,
      "outputs": [
        {
          "output_type": "execute_result",
          "data": {
            "text/plain": [
              "(99, 4)"
            ]
          },
          "metadata": {},
          "execution_count": 25
        }
      ]
    },
    {
      "cell_type": "code",
      "source": [
        "treino_x = x[:75]\n",
        "treino_y = y[:75]\n",
        "\n",
        "teste_x = x[75:]\n",
        "teste_y = y[75:]\n",
        "\n",
        "print('Treinaremos com {} elementos e testaremos com {} elementos'.format(len(treino_x), len(teste_x)))\n",
        "\n"
      ],
      "metadata": {
        "colab": {
          "base_uri": "https://localhost:8080/"
        },
        "id": "6UDmreUqie-D",
        "outputId": "62e00f20-f2a2-4ba0-ddad-69df08d8e065"
      },
      "execution_count": 35,
      "outputs": [
        {
          "output_type": "stream",
          "name": "stdout",
          "text": [
            "Treinaremos com 75 elementos e testaremos com 24 elementos\n"
          ]
        }
      ]
    },
    {
      "cell_type": "markdown",
      "source": [
        "#Começo do processo de treinamento"
      ],
      "metadata": {
        "id": "sOQNzoGpkh8k"
      }
    },
    {
      "cell_type": "code",
      "source": [
        "from sklearn.svm import LinearSVC\n",
        "from sklearn.metrics import accuracy_score\n",
        "\n",
        "# Esse modelo tenta adaptar o seu conhecimento com base nos dados e classes passados\n",
        "model = LinearSVC()\n",
        "model.fit(treino_x, treino_y)\n",
        "\n",
        "# Agora ele vai pegar o restante da base de dados e tentar prever as respostas\n",
        "predictions = model.predict(teste_x)\n",
        "\n",
        "# Lembrando que eu tenho as respostas certas para comparação em teste_y\n",
        "# Então posso calcular a acurácia da classificação\n",
        "perc_right = accuracy_score(teste_y, predictions) * 100\n",
        "\n",
        "print('A acurácia é de {}%'.format(round(perc_right,2)))\n",
        "\n"
      ],
      "metadata": {
        "colab": {
          "base_uri": "https://localhost:8080/"
        },
        "id": "ZpssdEPmjKBs",
        "outputId": "9f2a8110-bf58-4b84-dc6c-49ae65265640"
      },
      "execution_count": 39,
      "outputs": [
        {
          "output_type": "stream",
          "name": "stdout",
          "text": [
            "A acurácia é de 95.83%\n"
          ]
        }
      ]
    },
    {
      "cell_type": "markdown",
      "source": [
        "#Utilizando a biblioteca sklearn para separar treino e teste"
      ],
      "metadata": {
        "id": "qL4ih4Fb2IWg"
      }
    },
    {
      "cell_type": "code",
      "source": [
        "from sklearn.model_selection import train_test_split\n",
        "from sklearn.svm import LinearSVC\n",
        "from sklearn.metrics import accuracy_score\n",
        "\n",
        "# Responsavel por tirar a aleatoriedade da separação entre treino e teste\n",
        "SEED = 20\n",
        "\n",
        "treino_x, teste_x, treino_y, teste_y = train_test_split( x, y, random_state = SEED, test_size = 0.25 )\n",
        "\n",
        "print('Treinaremos com {} elementos e testaremos com {} elementos'.format(len(treino_x), len(teste_x)))\n",
        "\n",
        "# Esse modelo tenta adaptar o seu conhecimento com base nos dados e classes passados\n",
        "model = LinearSVC()\n",
        "model.fit(treino_x, treino_y)\n",
        "\n",
        "# Agora ele vai pegar o restante da base de dados e tentar prever as respostas\n",
        "predictions = model.predict(teste_x)\n",
        "\n",
        "# Lembrando que eu tenho as respostas certas para comparação em teste_y\n",
        "# Então posso calcular a acurácia da classificação\n",
        "perc_right = accuracy_score(teste_y, predictions) * 100\n",
        "\n",
        "print('A acurácia é de {}%'.format(round(perc_right,2)))\n"
      ],
      "metadata": {
        "colab": {
          "base_uri": "https://localhost:8080/"
        },
        "id": "o6cL06302PgY",
        "outputId": "3eec48ec-7c24-4bba-a5b7-612157835c2d"
      },
      "execution_count": 50,
      "outputs": [
        {
          "output_type": "stream",
          "name": "stdout",
          "text": [
            "Treinaremos com 74 elementos e testaremos com 25 elementos\n",
            "A acurácia é de 96.0%\n"
          ]
        }
      ]
    },
    {
      "cell_type": "code",
      "source": [
        "treino_y.value_counts()"
      ],
      "metadata": {
        "colab": {
          "base_uri": "https://localhost:8080/"
        },
        "id": "JN0sjQez36XC",
        "outputId": "e8ed0d74-d130-4763-fc17-a192df83ed3c"
      },
      "execution_count": 52,
      "outputs": [
        {
          "output_type": "execute_result",
          "data": {
            "text/plain": [
              "0    47\n",
              "1    27\n",
              "Name: comprou, dtype: int64"
            ]
          },
          "metadata": {},
          "execution_count": 52
        }
      ]
    },
    {
      "cell_type": "code",
      "source": [
        "teste_y.value_counts()"
      ],
      "metadata": {
        "colab": {
          "base_uri": "https://localhost:8080/"
        },
        "id": "Ek75phZ44KHI",
        "outputId": "36568b75-8105-4327-86be-91d128092817"
      },
      "execution_count": 53,
      "outputs": [
        {
          "output_type": "execute_result",
          "data": {
            "text/plain": [
              "0    19\n",
              "1     6\n",
              "Name: comprou, dtype: int64"
            ]
          },
          "metadata": {},
          "execution_count": 53
        }
      ]
    },
    {
      "cell_type": "markdown",
      "source": [
        "Podemos observar que a proporção de pessoas que compraram e não compraram\n",
        "entre as amostras de testes e treino são diferentes e isso é arriscado.\n",
        "**Então será passado mais um argumento para a função train_test_split**"
      ],
      "metadata": {
        "id": "n42zhicn4Pcu"
      }
    },
    {
      "cell_type": "code",
      "source": [
        "from sklearn.model_selection import train_test_split\n",
        "from sklearn.svm import LinearSVC\n",
        "from sklearn.metrics import accuracy_score\n",
        "\n",
        "# Responsavel por tirar a aleatoriedade da separação entre treino e teste\n",
        "SEED = 20\n",
        "\n",
        "treino_x, teste_x, treino_y, teste_y = train_test_split( x, y,\n",
        "                                                        random_state = SEED, test_size = 0.25,\n",
        "                                                        stratify = y)\n",
        "\n",
        "print('Treinaremos com {} elementos e testaremos com {} elementos'.format(len(treino_x), len(teste_x)))\n",
        "\n",
        "# Esse modelo tenta adaptar o seu conhecimento com base nos dados e classes passados\n",
        "model = LinearSVC()\n",
        "model.fit(treino_x, treino_y)\n",
        "\n",
        "# Agora ele vai pegar o restante da base de dados e tentar prever as respostas\n",
        "predictions = model.predict(teste_x)\n",
        "\n",
        "# Lembrando que eu tenho as respostas certas para comparação em teste_y\n",
        "# Então posso calcular a acurácia da classificação\n",
        "perc_right = accuracy_score(teste_y, predictions) * 100\n",
        "\n",
        "print('A acurácia é de {}%'.format(round(perc_right,2)))"
      ],
      "metadata": {
        "colab": {
          "base_uri": "https://localhost:8080/"
        },
        "id": "k0lhg5Uw4YLC",
        "outputId": "3a965566-c432-4f45-d3eb-4153a37ad2ab"
      },
      "execution_count": 55,
      "outputs": [
        {
          "output_type": "stream",
          "name": "stdout",
          "text": [
            "Treinaremos com 74 elementos e testaremos com 25 elementos\n",
            "A acurácia é de 96.0%\n"
          ]
        }
      ]
    },
    {
      "cell_type": "code",
      "source": [
        "treino_y.value_counts()"
      ],
      "metadata": {
        "colab": {
          "base_uri": "https://localhost:8080/"
        },
        "id": "HxRIXbm65f0L",
        "outputId": "38f89874-517b-4702-a420-f041497f2105"
      },
      "execution_count": 56,
      "outputs": [
        {
          "output_type": "execute_result",
          "data": {
            "text/plain": [
              "0    49\n",
              "1    25\n",
              "Name: comprou, dtype: int64"
            ]
          },
          "metadata": {},
          "execution_count": 56
        }
      ]
    },
    {
      "cell_type": "code",
      "source": [
        "teste_y.value_counts()"
      ],
      "metadata": {
        "colab": {
          "base_uri": "https://localhost:8080/"
        },
        "id": "8mFLN0De5hXr",
        "outputId": "4b20ee58-540c-411b-f89f-d69fd7f11e8a"
      },
      "execution_count": 57,
      "outputs": [
        {
          "output_type": "execute_result",
          "data": {
            "text/plain": [
              "0    17\n",
              "1     8\n",
              "Name: comprou, dtype: int64"
            ]
          },
          "metadata": {},
          "execution_count": 57
        }
      ]
    },
    {
      "cell_type": "markdown",
      "source": [
        "Agora a proporção é a mesma!!"
      ],
      "metadata": {
        "id": "ZS4HsPYS5jWv"
      }
    }
  ]
}